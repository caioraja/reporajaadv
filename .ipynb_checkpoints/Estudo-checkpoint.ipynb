{
 "cells": [
  {
   "cell_type": "code",
   "execution_count": null,
   "id": "9032ecda-d820-41cd-a06d-1985c26f6404",
   "metadata": {},
   "outputs": [],
   "source": [
    "import docx\n",
    "import pandas as pd\n",
    "from docx.shared import Pt"
   ]
  },
  {
   "cell_type": "code",
   "execution_count": null,
   "id": "41eaa978-dd80-47e3-a72f-a6f29947b9da",
   "metadata": {},
   "outputs": [],
   "source": [
    "doc = docx.Document(r\"C:\\Users\\caior\\Documents\\RepoRAJAADV\\src\\modelos\\COFSERVICOSv00.docx\")\n"
   ]
  },
  {
   "cell_type": "code",
   "execution_count": null,
   "id": "bfd1b6eb-86bc-4ffa-b027-1103530a5ffc",
   "metadata": {},
   "outputs": [],
   "source": [
    "p = doc.paragraphs[3]\n",
    "# p.clear()"
   ]
  },
  {
   "cell_type": "code",
   "execution_count": null,
   "id": "4b5e9a44-c4e5-481b-a322-2c9063bfb042",
   "metadata": {},
   "outputs": [],
   "source": [
    "# p.text = 'XXXXXXXXXXXXXX'\n",
    "# doc.save('MODELO001.docx')"
   ]
  },
  {
   "cell_type": "code",
   "execution_count": null,
   "id": "e5af680b-64c8-40ef-aca7-0443b84038b8",
   "metadata": {},
   "outputs": [],
   "source": [
    "p = doc.paragraphs[0]\n",
    "p.add_run(text=\"01.\").bold = True\n",
    "p.add_run(text=\"\\tTESTE\")"
   ]
  },
  {
   "cell_type": "code",
   "execution_count": null,
   "id": "6d06f197-b8e3-461b-86af-5c62a45945c3",
   "metadata": {},
   "outputs": [],
   "source": [
    "p.text"
   ]
  },
  {
   "cell_type": "code",
   "execution_count": null,
   "id": "7e182097-e80e-451e-a9bf-b42d4af24032",
   "metadata": {},
   "outputs": [],
   "source": [
    "par = [p.text for p in doc.paragraphs]"
   ]
  },
  {
   "cell_type": "code",
   "execution_count": null,
   "id": "f3592b2c-9c1f-49e5-a2f5-f894459b3d4d",
   "metadata": {},
   "outputs": [],
   "source": [
    "for i in range(len(par)):\n",
    "    print(f\"{i} , {par[i]}\")"
   ]
  },
  {
   "cell_type": "code",
   "execution_count": null,
   "id": "e13ea54f-e036-44c4-ac7a-857524035a98",
   "metadata": {},
   "outputs": [],
   "source": [
    "font = doc.styles[\"Normal\"].font\n",
    "font.name = \"Arial\"\n",
    "font.size = Pt(10.5)\n",
    "p3 = doc.paragraphs[3]\n",
    "p3.clear()\n",
    "p3.add_run(\"01.\").bold = True\n",
    "p3.add_run(\"\\tDeclaro que, nesta data, recebi um exemplar da Circular de Oferta de Franquia (COF), com todas as informações relevantes sobre o Sistema de Franquias da Rede de Franquias\")\n",
    "p3.add_run(\"DM LIMPEZA E CONSERVAÇÃO\").bold = True\n",
    "p3.add_run(\", exigidas pela Lei nº 13.966/2019 (Lei de Franquias Empresariais), afirmando minha ciência de que, dentro do período de 10 (dez) dias seguintes ao dia de hoje, não assinarei nenhum Contrato ou Pré-Contrato de Franquia, e, tampouco, promoverei o pagamento de qualquer quantia para a Franqueadora ou pessoa a ela ligada.\")"
   ]
  },
  {
   "cell_type": "code",
   "execution_count": null,
   "id": "a625ec3b-7b46-4fa7-9f9d-e1e41f4cf9bc",
   "metadata": {},
   "outputs": [],
   "source": [
    "p66 = doc.paragraphs[66]\n",
    "p66.clear()\n",
    "p66.add_run(\"Você está recebendo nossa Circular de Oferta de Franquia (COF), contendo informações e dados básicos sobre quem somos, sobre nossa filosofia de trabalho, nossos anseios, e acima de tudo, sobre o modelo de franchising do negócio \")\n",
    "p66.add_run(f\"DM LIMPEZA E CONSERVAÇÃO\\\".\").bold = True\n",
    "p66.add_run(\n",
    "        \" – de agora em diante chamado apenas \"\n",
    ")\n",
    "p66.add_run(f\"DM LIMPEZA E CONSERVAÇÃO\\\".\").bold = True"
   ]
  },
  {
   "cell_type": "code",
   "execution_count": null,
   "id": "30e17ed6-e476-4d99-a4b2-81dbd4e04216",
   "metadata": {},
   "outputs": [],
   "source": [
    "doc.save(\"aaa.docx\")"
   ]
  },
  {
   "cell_type": "code",
   "execution_count": 1,
   "id": "ff9a9385-326e-4d9f-9982-f5686c7001c9",
   "metadata": {},
   "outputs": [],
   "source": [
    "#TODO testar o RUN"
   ]
  },
  {
   "cell_type": "code",
   "execution_count": null,
   "id": "799c2b78-de2f-4e23-842e-a342b08231f7",
   "metadata": {},
   "outputs": [],
   "source": []
  }
 ],
 "metadata": {
  "kernelspec": {
   "display_name": "Python 3 (ipykernel)",
   "language": "python",
   "name": "python3"
  },
  "language_info": {
   "codemirror_mode": {
    "name": "ipython",
    "version": 3
   },
   "file_extension": ".py",
   "mimetype": "text/x-python",
   "name": "python",
   "nbconvert_exporter": "python",
   "pygments_lexer": "ipython3",
   "version": "3.9.13"
  }
 },
 "nbformat": 4,
 "nbformat_minor": 5
}
