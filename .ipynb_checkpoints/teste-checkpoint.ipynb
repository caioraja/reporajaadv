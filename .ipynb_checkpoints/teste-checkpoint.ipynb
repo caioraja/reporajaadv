{
 "cells": [
  {
   "cell_type": "code",
   "execution_count": 1,
   "id": "fa449277-adc9-4239-8795-2fa45cab66b7",
   "metadata": {},
   "outputs": [],
   "source": [
    "import docx\n",
    "from docx.shared import Pt\n",
    "doc = docx.Document(r\"C:\\Users\\caior\\Documents\\RepoRAJAADV\\src\\modelos\\COFSERVICOSv00.docx\")\n",
    "\n",
    "#run = doc.paragraphs[193]"
   ]
  },
  {
   "cell_type": "code",
   "execution_count": 28,
   "id": "f1944294-b0a3-4a44-812e-81067a46f575",
   "metadata": {},
   "outputs": [
    {
     "name": "stdout",
     "output_type": "stream",
     "text": [
      "Observa-se que os Franqueados da Rede \n",
      "MARCA DO CLIENTE\n",
      ", devem atender\n",
      ", outrossim, \n",
      "as regras dos órgãos regulamentadores das suas atividades. \n"
     ]
    }
   ],
   "source": [
    "for i in run.runs:\n",
    "    print(i.text)"
   ]
  },
  {
   "cell_type": "code",
   "execution_count": 30,
   "id": "4d287b97-1c7c-4b76-a44f-c7d0280400bb",
   "metadata": {},
   "outputs": [
    {
     "data": {
      "text/plain": [
       "<docx.text.run.Run at 0x1eb00864110>"
      ]
     },
     "execution_count": 30,
     "metadata": {},
     "output_type": "execute_result"
    }
   ],
   "source": [
    "run.runs[1].clear()"
   ]
  },
  {
   "cell_type": "code",
   "execution_count": 31,
   "id": "bfdd5ff8-ad2f-46de-a41f-fa558b66bad6",
   "metadata": {},
   "outputs": [
    {
     "name": "stdout",
     "output_type": "stream",
     "text": [
      "Observa-se que os Franqueados da Rede \n",
      "\n",
      ", devem atender\n",
      ", outrossim, \n",
      "as regras dos órgãos regulamentadores das suas atividades. \n"
     ]
    }
   ],
   "source": [
    "for i in run.runs:\n",
    "    print(i.text)"
   ]
  },
  {
   "cell_type": "code",
   "execution_count": 43,
   "id": "a923359c-ec20-48fd-9e09-362c1a1d9525",
   "metadata": {},
   "outputs": [
    {
     "data": {
      "text/plain": [
       "<docx.text.run._Text at 0x1eb0423add0>"
      ]
     },
     "execution_count": 43,
     "metadata": {},
     "output_type": "execute_result"
    }
   ],
   "source": [
    "run.runs[1].add_text(\"AAAAAAAAAAAAA\")"
   ]
  },
  {
   "cell_type": "code",
   "execution_count": 34,
   "id": "da1bf1db-c224-4d8a-b3c6-c9e442c0d5bc",
   "metadata": {},
   "outputs": [
    {
     "name": "stdout",
     "output_type": "stream",
     "text": [
      "Observa-se que os Franqueados da Rede \n",
      "AAAAAAAAAAAAAAAAAAAAAAAAAA\n",
      ", devem atender\n",
      ", outrossim, \n",
      "as regras dos órgãos regulamentadores das suas atividades. \n"
     ]
    }
   ],
   "source": [
    "for i in run.runs:\n",
    "    print(i.text)"
   ]
  },
  {
   "cell_type": "code",
   "execution_count": 46,
   "id": "55eb2449-7741-4997-a476-884f59d122d2",
   "metadata": {},
   "outputs": [],
   "source": [
    "run.runs[1].font.size = Pt(35)"
   ]
  },
  {
   "cell_type": "code",
   "execution_count": 47,
   "id": "7731e16c-77bf-4f97-b9aa-9909981910de",
   "metadata": {},
   "outputs": [],
   "source": [
    "doc.save(\"NOVO.docx\")"
   ]
  },
  {
   "cell_type": "code",
   "execution_count": 48,
   "id": "fb496c71-be87-43aa-a19c-c81f7af388e6",
   "metadata": {},
   "outputs": [
    {
     "name": "stdout",
     "output_type": "stream",
     "text": [
      "TESTE\n"
     ]
    }
   ],
   "source": []
  },
  {
   "cell_type": "code",
   "execution_count": 31,
   "id": "2661a2ab-9873-43ff-bbce-6c58fbceafcb",
   "metadata": {},
   "outputs": [
    {
     "name": "stdout",
     "output_type": "stream",
     "text": [
      "O que motivou a criar o projeto \n",
      "MARCA DO CLIENTE\n",
      "?\n"
     ]
    }
   ],
   "source": [
    "import docx\n",
    "from docx.shared import Pt\n",
    "doc = docx.Document(r\"C:\\Users\\caior\\Documents\\RepoRAJAADV\\src\\modelos\\COFSERVICOSv00.docx\")\n",
    "run = doc.paragraphs[100]\n",
    "for i in run.runs:\n",
    "    print(i.text)"
   ]
  },
  {
   "cell_type": "code",
   "execution_count": 32,
   "id": "eff1414d-9e29-49c6-980a-d4d2c797267b",
   "metadata": {},
   "outputs": [
    {
     "data": {
      "text/plain": [
       "'MARCA DO CLIENTE'"
      ]
     },
     "execution_count": 32,
     "metadata": {},
     "output_type": "execute_result"
    }
   ],
   "source": [
    "run.runs[1].text "
   ]
  },
  {
   "cell_type": "code",
   "execution_count": 9,
   "id": "6bdf3d8c-d3fa-40eb-94ee-717b9d0e358b",
   "metadata": {},
   "outputs": [],
   "source": [
    "doc.save(\"TESTE.docx\")"
   ]
  },
  {
   "cell_type": "code",
   "execution_count": 3,
   "id": "6f97eaf0-61a4-46fc-bde8-44538b6dcebc",
   "metadata": {},
   "outputs": [],
   "source": [
    "#DEU CERTOOOOOOOOOOOOOOOOOOOOOOOOOOOOOOOOOOOOOOOOOOOOOOOOOOO\n",
    "\n",
    "for par in doc.paragraphs:\n",
    "    for i in par.runs:\n",
    "        if i.text == \"MARCA DO CLIENTE\":\n",
    "            i.text = \"TESTE\""
   ]
  },
  {
   "cell_type": "code",
   "execution_count": 4,
   "id": "fd2ed0fd-63eb-409a-873c-369ead8c49b1",
   "metadata": {},
   "outputs": [],
   "source": [
    "doc.save(\"TESTE.docx\")"
   ]
  },
  {
   "cell_type": "code",
   "execution_count": null,
   "id": "5c2b4ff9-e111-440a-b3d8-2349ec608f5e",
   "metadata": {},
   "outputs": [],
   "source": []
  }
 ],
 "metadata": {
  "kernelspec": {
   "display_name": "Python 3 (ipykernel)",
   "language": "python",
   "name": "python3"
  },
  "language_info": {
   "codemirror_mode": {
    "name": "ipython",
    "version": 3
   },
   "file_extension": ".py",
   "mimetype": "text/x-python",
   "name": "python",
   "nbconvert_exporter": "python",
   "pygments_lexer": "ipython3",
   "version": "3.11.2"
  }
 },
 "nbformat": 4,
 "nbformat_minor": 5
}
